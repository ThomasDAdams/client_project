{
 "cells": [
  {
   "cell_type": "markdown",
   "metadata": {},
   "source": [
    "## Import the data and neccessary packages"
   ]
  },
  {
   "cell_type": "code",
   "execution_count": 2,
   "metadata": {},
   "outputs": [],
   "source": [
    "import pandas as pd\n",
    "import numpy as np"
   ]
  },
  {
   "cell_type": "code",
   "execution_count": 3,
   "metadata": {},
   "outputs": [],
   "source": [
    "da_univ = pd.read_csv('PG University&College List - Ct_nh_ma_schools - Sheet1.csv')\n",
    "da_store = pd.read_csv('Pg restaurant list 11.9.18 - Sheet1 - Pg restaurant list 11.9.18 - Sheet1.csv')"
   ]
  },
  {
   "cell_type": "markdown",
   "metadata": {},
   "source": [
    "### Clean the data for analysis"
   ]
  },
  {
   "cell_type": "code",
   "execution_count": 4,
   "metadata": {},
   "outputs": [],
   "source": [
    "# only show the relevant columns within the university data\n",
    "da_univ.drop(da_univ.columns.difference(['INSTNM', 'LATITUDE', 'LONGITUDE', 'ZIP', 'CITY', 'STABBR']), 1, inplace=True)\n",
    "\n",
    "\n",
    "# drop NA from the address column of the D'Angelo store locations\n",
    "da_store = da_store.dropna(subset=['Address'])\n",
    "da_store.drop(da_store.columns.difference(['Restaurant #', 'Restaurant Name', 'Address', 'City', 'State', 'Zip Code']), 1, inplace=True)\n",
    "da_store.reset_index(drop=True)\n",
    "\n",
    "# drop NA from the lat, lng column of the university data\n",
    "da_univ = da_univ.dropna(subset=['LATITUDE', 'LONGITUDE'])\n",
    "\n"
   ]
  },
  {
   "cell_type": "markdown",
   "metadata": {},
   "source": [
    "### Get the address of each university or college from lat long coordinates in university/college data."
   ]
  },
  {
   "cell_type": "code",
   "execution_count": 5,
   "metadata": {},
   "outputs": [],
   "source": [
    "# joined address, city, state colums by a comma into the address column\n",
    "cols = ['Address', 'City', 'State']\n",
    "da_store['Address'] = da_store[cols].apply(lambda row: ', '.join(row.values.astype(str)), axis=1)\n",
    "da_store = da_store.reset_index(drop = True)\n",
    "#da_store.head()"
   ]
  },
  {
   "cell_type": "markdown",
   "metadata": {},
   "source": [
    "#### Use OpenCageGeocode"
   ]
  },
  {
   "cell_type": "code",
   "execution_count": 6,
   "metadata": {},
   "outputs": [],
   "source": [
    "from opencage.geocoder import OpenCageGeocode\n"
   ]
  },
  {
   "cell_type": "code",
   "execution_count": 7,
   "metadata": {},
   "outputs": [],
   "source": [
    "key = 'e48659b4500a4db7bf6fa31641f8b688'  # get api key from:  https://opencagedata.com\n",
    "\n",
    "\n",
    "\n",
    "geocoder = OpenCageGeocode(key)\n",
    "\n",
    "\n",
    "\n",
    "\n",
    "query = 'Denver, Colorado'  \n",
    "\n",
    "\n",
    "\n",
    "\n",
    "results = geocoder.geocode(query)\n",
    "\n",
    "\n",
    "\n",
    "\n",
    "#print (results)"
   ]
  },
  {
   "cell_type": "code",
   "execution_count": 227,
   "metadata": {},
   "outputs": [
    {
     "name": "stdout",
     "output_type": "stream",
     "text": [
      "39.7392364 -104.9848623\n"
     ]
    }
   ],
   "source": [
    "lat = results[0]['geometry']['lat']\n",
    "\n",
    "lng = results[0]['geometry']['lng']\n",
    "\n",
    "print (lat, lng)"
   ]
  },
  {
   "cell_type": "markdown",
   "metadata": {},
   "source": [
    "## Grab lat, lng coordinates for each address within store data"
   ]
  },
  {
   "cell_type": "code",
   "execution_count": 8,
   "metadata": {},
   "outputs": [],
   "source": [
    "list_lat = []   # create empty lists\n",
    "\n",
    "list_long = []\n",
    "\n",
    "for index, row in da_store.iterrows(): # iterate over rows in dataframe\n",
    "\n",
    "\n",
    "    Address = row['Address']\n",
    "    query = str(Address)\n",
    "\n",
    "    results = geocoder.geocode(query)   \n",
    "    lat = results[0]['geometry']['lat']\n",
    "    long = results[0]['geometry']['lng']\n",
    "\n",
    "    list_lat.append(lat)\n",
    "    list_long.append(long)\n",
    "\n",
    "# create new columns from lists    \n",
    "\n",
    "da_store['lat'] = list_lat   \n",
    "\n",
    "da_store['lon'] = list_long"
   ]
  },
  {
   "cell_type": "code",
   "execution_count": 9,
   "metadata": {},
   "outputs": [],
   "source": [
    "da_store.head(85)\n",
    "export_csv = da_store.to_csv('pg_store.csv')"
   ]
  },
  {
   "cell_type": "code",
   "execution_count": 10,
   "metadata": {},
   "outputs": [
    {
     "data": {
      "text/plain": [
       "(97, 6)"
      ]
     },
     "execution_count": 10,
     "metadata": {},
     "output_type": "execute_result"
    }
   ],
   "source": [
    "da_store.shape"
   ]
  },
  {
   "cell_type": "code",
   "execution_count": 11,
   "metadata": {},
   "outputs": [
    {
     "data": {
      "text/plain": [
       "(120, 6)"
      ]
     },
     "execution_count": 11,
     "metadata": {},
     "output_type": "execute_result"
    }
   ],
   "source": [
    "da_univ.shape"
   ]
  },
  {
   "cell_type": "markdown",
   "metadata": {},
   "source": [
    "#### Haversine numpy function calculating distance between to lat, lng coordinate pairs"
   ]
  },
  {
   "cell_type": "code",
   "execution_count": 12,
   "metadata": {},
   "outputs": [],
   "source": [
    "\n",
    "from math import radians, cos, sin, asin, sqrt\n",
    "def haversine_np(lon1, lat1, lon2, lat2):\n",
    "    \"\"\"\n",
    "    Calculate the great circle distance between two points\n",
    "    on the earth (specified in decimal degrees)\n",
    "\n",
    "    All args must be of equal length.    \n",
    "\n",
    "    \"\"\"\n",
    "    lon1, lat1, lon2, lat2 = map(np.radians, [lon1, lat1, lon2, lat2])\n",
    "\n",
    "    dlon = lon2 - lon1\n",
    "    dlat = lat2 - lat1\n",
    "\n",
    "    a = np.sin(dlat/2.0)**2 + np.cos(lat1) * np.cos(lat2) * np.sin(dlon/2.0)**2\n",
    "\n",
    "    c = 2 * np.arcsin(np.sqrt(a))\n",
    "    km = 6367 * c\n",
    "    return km"
   ]
  },
  {
   "cell_type": "code",
   "execution_count": 241,
   "metadata": {},
   "outputs": [],
   "source": [
    "# list_store = []\n",
    "# dist = []\n",
    "\n",
    "\n",
    "# ndx_stores = 0\n",
    "# for index_store, row_store in da_store.iterrows():\n",
    "#     store_lat = row_store['lat']\n",
    "#     store_lon = row_store['lon']\n",
    "    \n",
    "#     ndx_univ = 0\n",
    "#     for index_univ, row_univ in da_univ.iterrows():\n",
    "#         univ_lat = row_univ['LATITUDE']\n",
    "#         univ_lon = row_univ['LONGITUDE']\n",
    "#         distance[ndx_univ] = haversine_np(store_lon, store_lat, univ_lon, univ_lat)\n",
    "#         ndx_univ += 1     \n",
    "    \n",
    "#     list_store[ndx_stores] = min(distance)\n",
    "    \n",
    "\n",
    "#points = haversine_np(da_store['lon'], da_store['lat'], da_univ['LONGITUDE'], da_univ['LATITUDE'])\n",
    "\n",
    "#print(points)\n",
    "#points = points.reshape(1, -1)\n",
    "#haversine_np(-97.441113,35.221090,-97.520280,35.465438)\n",
    "#nbrs = NearestNeighbors(n_neighbors=2, metric=distance).fit(points)\n",
    "\n",
    "#distances, indices = nbrs.kneighbors(points)\n",
    "\n",
    "#result = distances[:, 1]\n",
    "#da_store.head()"
   ]
  },
  {
   "cell_type": "code",
   "execution_count": 133,
   "metadata": {},
   "outputs": [],
   "source": [
    "# export da_univ to csv\n",
    "export_csv2 = da_univ.to_csv('da_univ.csv')"
   ]
  },
  {
   "cell_type": "code",
   "execution_count": 189,
   "metadata": {},
   "outputs": [],
   "source": [
    "#%qtconsole"
   ]
  },
  {
   "cell_type": "markdown",
   "metadata": {},
   "source": [
    "# Created dataframe with store, univ, restaurant name, INSTNM, and CLOSEST UNIVERSITY DISTANCE"
   ]
  },
  {
   "cell_type": "code",
   "execution_count": 13,
   "metadata": {},
   "outputs": [
    {
     "data": {
      "text/html": [
       "<div>\n",
       "<style scoped>\n",
       "    .dataframe tbody tr th:only-of-type {\n",
       "        vertical-align: middle;\n",
       "    }\n",
       "\n",
       "    .dataframe tbody tr th {\n",
       "        vertical-align: top;\n",
       "    }\n",
       "\n",
       "    .dataframe thead th {\n",
       "        text-align: right;\n",
       "    }\n",
       "</style>\n",
       "<table border=\"1\" class=\"dataframe\">\n",
       "  <thead>\n",
       "    <tr style=\"text-align: right;\">\n",
       "      <th></th>\n",
       "      <th></th>\n",
       "      <th>Restaurant Name</th>\n",
       "      <th>INSTNM</th>\n",
       "      <th>Distance</th>\n",
       "    </tr>\n",
       "    <tr>\n",
       "      <th>Store</th>\n",
       "      <th>Univ</th>\n",
       "      <th></th>\n",
       "      <th></th>\n",
       "      <th></th>\n",
       "    </tr>\n",
       "  </thead>\n",
       "  <tbody>\n",
       "    <tr>\n",
       "      <th>0</th>\n",
       "      <th>86</th>\n",
       "      <td>Derry</td>\n",
       "      <td>Lincoln Technical Institute-Lowell</td>\n",
       "      <td>9.620209</td>\n",
       "    </tr>\n",
       "    <tr>\n",
       "      <th>1</th>\n",
       "      <th>73</th>\n",
       "      <td>Rockingham</td>\n",
       "      <td>EINE Inc</td>\n",
       "      <td>5.985114</td>\n",
       "    </tr>\n",
       "    <tr>\n",
       "      <th>2</th>\n",
       "      <th>113</th>\n",
       "      <td>Gilford</td>\n",
       "      <td>Lakes Region Community College</td>\n",
       "      <td>2.812440</td>\n",
       "    </tr>\n",
       "    <tr>\n",
       "      <th>3</th>\n",
       "      <th>107</th>\n",
       "      <td>Rochester, NH (Lilac)</td>\n",
       "      <td>Empire Beauty School-Somersworth</td>\n",
       "      <td>10.910741</td>\n",
       "    </tr>\n",
       "    <tr>\n",
       "      <th>4</th>\n",
       "      <th>117</th>\n",
       "      <td>Concord</td>\n",
       "      <td>Granite State College</td>\n",
       "      <td>2.031957</td>\n",
       "    </tr>\n",
       "  </tbody>\n",
       "</table>\n",
       "</div>"
      ],
      "text/plain": [
       "                  Restaurant Name                              INSTNM  \\\n",
       "Store Univ                                                              \n",
       "0     86                    Derry  Lincoln Technical Institute-Lowell   \n",
       "1     73               Rockingham                            EINE Inc   \n",
       "2     113                 Gilford      Lakes Region Community College   \n",
       "3     107   Rochester, NH (Lilac)    Empire Beauty School-Somersworth   \n",
       "4     117                 Concord               Granite State College   \n",
       "\n",
       "             Distance  \n",
       "Store Univ             \n",
       "0     86     9.620209  \n",
       "1     73     5.985114  \n",
       "2     113    2.812440  \n",
       "3     107   10.910741  \n",
       "4     117    2.031957  "
      ]
     },
     "execution_count": 13,
     "metadata": {},
     "output_type": "execute_result"
    }
   ],
   "source": [
    "# Build an index that contain every pairing of Store - University\n",
    "idx = pd.MultiIndex.from_product([da_store.index, da_univ.index], names=['Store', 'Univ'])\n",
    "\n",
    "# Pull the coordinates of the store and the universities together\n",
    "# We don't need their name here\n",
    "df = pd.DataFrame(index=idx) \\\n",
    "        .join(da_store[['lat', 'lon']], on='Store') \\\n",
    "        .join(da_univ[['LATITUDE', 'LONGITUDE']], on='Univ')\n",
    "\n",
    "df['Distance'] = haversine_np(*df[['lat', 'lon', 'LATITUDE', 'LONGITUDE']].values.T)\n",
    "\n",
    "# The closest university to each store\n",
    "min_distance = df.loc[df.groupby('Store')['Distance'].idxmin(), 'Distance']\n",
    "\n",
    "# Pulling everything together\n",
    "df_comp = min_distance.to_frame().join(da_store, on='Store').join(da_univ, on='Univ') \\\n",
    "    [['Restaurant Name', 'INSTNM', 'Distance']]\n",
    "\n",
    "\n",
    "df_comp.head()"
   ]
  },
  {
   "cell_type": "code",
   "execution_count": 14,
   "metadata": {},
   "outputs": [],
   "source": [
    "# export final dataframe to csv\n",
    "ex = df_comp.to_csv('df_comp_papagino.csv')"
   ]
  },
  {
   "cell_type": "code",
   "execution_count": null,
   "metadata": {},
   "outputs": [],
   "source": []
  }
 ],
 "metadata": {
  "kernelspec": {
   "display_name": "Python 3",
   "language": "python",
   "name": "python3"
  },
  "language_info": {
   "codemirror_mode": {
    "name": "ipython",
    "version": 3
   },
   "file_extension": ".py",
   "mimetype": "text/x-python",
   "name": "python",
   "nbconvert_exporter": "python",
   "pygments_lexer": "ipython3",
   "version": "3.7.3"
  }
 },
 "nbformat": 4,
 "nbformat_minor": 2
}
